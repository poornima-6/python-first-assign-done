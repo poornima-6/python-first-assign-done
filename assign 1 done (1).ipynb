{
 "cells": [
  {
   "cell_type": "code",
   "execution_count": 2,
   "metadata": {},
   "outputs": [
    {
     "name": "stdout",
     "output_type": "stream",
     "text": [
      "welcome to Python\n"
     ]
    }
   ],
   "source": [
    "# 1st python assignment\n",
    "#Q1\n",
    "a = \"welcome to Python\"\n",
    "print (a)\n"
   ]
  },
  {
   "cell_type": "code",
   "execution_count": 2,
   "metadata": {},
   "outputs": [
    {
     "name": "stdout",
     "output_type": "stream",
     "text": [
      "welcome to Python\n",
      "1st Assignment\n"
     ]
    }
   ],
   "source": [
    "#Q2\n",
    "a = \"welcome to Python\"\n",
    "print (a)\n",
    "a = \"1st Assignment\"\n",
    "print(a)"
   ]
  },
  {
   "cell_type": "code",
   "execution_count": 3,
   "metadata": {},
   "outputs": [
    {
     "name": "stdout",
     "output_type": "stream",
     "text": [
      "Hello Eric,\n",
      " would you like to learn some python today?\n"
     ]
    }
   ],
   "source": [
    "# Q3\n",
    "p_name = \"Eric\"\n",
    "print (\"Hello Eric,\\n would you like to learn some python today?\")\n"
   ]
  },
  {
   "cell_type": "code",
   "execution_count": 4,
   "metadata": {},
   "outputs": [
    {
     "name": "stdout",
     "output_type": "stream",
     "text": [
      "Stephen Hawking once said\n",
      " 'However Difficult Life May Seem,\n",
      " There is always Something you can Do and Succeed At'\n"
     ]
    }
   ],
   "source": [
    "#Q4 \n",
    "Quote = \"Stephen Hawking once said\\n 'However Difficult Life May Seem,\\n There is always Something you can Do and Succeed At'\"\n",
    "print (Quote)"
   ]
  },
  {
   "cell_type": "code",
   "execution_count": 5,
   "metadata": {},
   "outputs": [
    {
     "name": "stdout",
     "output_type": "stream",
     "text": [
      "Stephen Hawking once said,\n",
      "'However Difficult Life May Seem,\n",
      " There is Always Something You can Do and Succeed At'\n"
     ]
    }
   ],
   "source": [
    "#Q5\n",
    "message = \"'However Difficult Life May Seem,\\n There is Always Something You can Do and Succeed At'\"\n",
    "p_name = 'Stephen Hawking'\n",
    "print('{0} once said,\\n{1}'.format(p_name,message) )"
   ]
  },
  {
   "cell_type": "code",
   "execution_count": 10,
   "metadata": {},
   "outputs": [
    {
     "name": "stdout",
     "output_type": "stream",
     "text": [
      "8\n",
      "8\n",
      "8\n",
      "8\n"
     ]
    }
   ],
   "source": [
    "#Q6\n",
    "print (2+6)\n",
    "print (12-4)\n",
    "print (4*2)\n",
    "print (int(64/8))"
   ]
  },
  {
   "cell_type": "code",
   "execution_count": 11,
   "metadata": {},
   "outputs": [
    {
     "name": "stdout",
     "output_type": "stream",
     "text": [
      "my fav_message\"However Difficult Life May Seem,\n",
      " There is Always Something You can Do and Succeed At\"\n"
     ]
    }
   ],
   "source": [
    "#Q7\n",
    "message_1= '\"However Difficult Life May Seem,\\n There is Always Something You can Do and Succeed At\"'\n",
    "fav_number = 6\n",
    "if fav_number ==6:print(\"my fav_message{}\".format(message_1))"
   ]
  },
  {
   "cell_type": "code",
   "execution_count": 12,
   "metadata": {},
   "outputs": [
    {
     "name": "stdout",
     "output_type": "stream",
     "text": [
      "my fav_message\"However Difficult Life May Seem,\n",
      " There is Always Something You can Do and Succeed At\"\n",
      "8\n",
      "8\n",
      "8\n",
      "8\n"
     ]
    }
   ],
   "source": [
    "# Q8\n",
    "#This is the simple program of fav number 6 excutes the fav message\n",
    "\n",
    "message_1= '\"However Difficult Life May Seem,\\n There is Always Something You can Do and Succeed At\"'\n",
    "fav_number = 6\n",
    "if fav_number ==6:print(\"my fav_message{}\".format(message_1))\n",
    "    #simple arithmatic operation \n",
    "print (2+6)\n",
    "print (12-4)\n",
    "print (4*2)\n",
    "print (int(64/8))\n"
   ]
  },
  {
   "cell_type": "code",
   "execution_count": 19,
   "metadata": {},
   "outputs": [
    {
     "name": "stdout",
     "output_type": "stream",
     "text": [
      "Eric\n",
      "John\n",
      "Nelson\n",
      "Peter\n",
      "James\n"
     ]
    }
   ],
   "source": [
    "#Q9\n",
    "friends_list = [\"Eric\\nJohn\\nNelson\\nPeter\\nJames\"]\n",
    "for friends in friends_list:print(friends)"
   ]
  },
  {
   "cell_type": "code",
   "execution_count": 22,
   "metadata": {},
   "outputs": [
    {
     "name": "stdout",
     "output_type": "stream",
     "text": [
      "Hello Eric,welcome to my place\n",
      "Hello John,welcome to my place\n",
      "Hello Nelson,welcome to my place\n",
      "Hello Peter,welcome to my place\n",
      "Hello James,welcome to my place\n"
     ]
    }
   ],
   "source": [
    "#Q10\n",
    "friends_list =  [\"Eric\",\"John\",\"Nelson\",\"Peter\",\"James\"]\n",
    "for friends in friends_list:print(\"Hello {0},welcome to my place\".format(friends))\n"
   ]
  },
  {
   "cell_type": "code",
   "execution_count": 24,
   "metadata": {},
   "outputs": [
    {
     "name": "stdout",
     "output_type": "stream",
     "text": [
      "I WOULD LIKE TO OWN A Honda Activa Scooter\n",
      "I WOULD LIKE TO OWN A TVS Jupiter Scooter\n",
      "I WOULD LIKE TO OWN A Yamaha Fasino Scooter\n",
      "I WOULD LIKE TO OWN A Mahindra Gesto Scooter\n",
      "I WOULD LIKE TO OWN A Suzuki Access Scooter\n"
     ]
    }
   ],
   "source": [
    "#Q11\n",
    "fav_transport = 'Scooter'\n",
    "stores = ['Honda Activa','TVS Jupiter','Yamaha Fasino','Mahindra Gesto','Suzuki Access']\n",
    "for fav in stores:print (\"I WOULD LIKE TO OWN A {0} {1}\".format(fav,fav_transport))"
   ]
  },
  {
   "cell_type": "code",
   "execution_count": null,
   "metadata": {},
   "outputs": [],
   "source": []
  }
 ],
 "metadata": {
  "kernelspec": {
   "display_name": "Python 3",
   "language": "python",
   "name": "python3"
  },
  "language_info": {
   "codemirror_mode": {
    "name": "ipython",
    "version": 3
   },
   "file_extension": ".py",
   "mimetype": "text/x-python",
   "name": "python",
   "nbconvert_exporter": "python",
   "pygments_lexer": "ipython3",
   "version": "3.7.6"
  }
 },
 "nbformat": 4,
 "nbformat_minor": 4
}
